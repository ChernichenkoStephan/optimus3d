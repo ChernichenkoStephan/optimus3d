{
 "cells": [
  {
   "cell_type": "code",
   "execution_count": 8,
   "id": "568d9a6e-5cfa-4048-a4d7-442e6b45824c",
   "metadata": {},
   "outputs": [],
   "source": [
    "# Sandbox\n",
    "# to clear unused plots\n",
    "plt.close('all')"
   ]
  },
  {
   "cell_type": "code",
   "execution_count": 11,
   "id": "6c7b893a-9e58-46f0-b845-c90ce7e1bd0c",
   "metadata": {
    "tags": []
   },
   "outputs": [],
   "source": [
    "%matplotlib ipympl\n",
    "%load_ext autoreload\n",
    "%autoreload 2\n",
    "\n",
    "import sys\n",
    "sys.path.append('..')\n",
    "\n",
    "import optimus3d.functions as of\n",
    "import optimus3d.optimizers as oo\n",
    "\n",
    "from optimus3d.functions import *\n",
    "from optimus3d.optimizers import *\n",
    "from optimus3d.surface import *\n",
    "from optimus3d.step import *\n",
    "from optimus3d.stop import *\n",
    "\n",
    "import optimus3d\n",
    "optimus3d.__version__\n",
    "\n",
    "# dev\n",
    "from mpl_toolkits import mplot3d\n",
    "import numpy as np\n",
    "import matplotlib.pyplot as plt\n",
    "from sympy import sympify, symbols\n",
    "from sympy.core.expr import Expr\n",
    "from functools import reduce\n",
    "from typing import Self, Sequence"
   ]
  }
 ],
 "metadata": {
  "kernelspec": {
   "display_name": "Python 3 (ipykernel)",
   "language": "python",
   "name": "python3"
  },
  "language_info": {
   "codemirror_mode": {
    "name": "ipython",
    "version": 3
   },
   "file_extension": ".py",
   "mimetype": "text/x-python",
   "name": "python",
   "nbconvert_exporter": "python",
   "pygments_lexer": "ipython3",
   "version": "3.11.5"
  }
 },
 "nbformat": 4,
 "nbformat_minor": 5
}
